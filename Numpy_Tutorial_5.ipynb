{
  "nbformat": 4,
  "nbformat_minor": 0,
  "metadata": {
    "colab": {
      "name": "Numpy Tutorial 5.ipynb",
      "provenance": []
    },
    "kernelspec": {
      "display_name": "Python 3",
      "language": "python",
      "name": "python3"
    },
    "language_info": {
      "codemirror_mode": {
        "name": "ipython",
        "version": 3
      },
      "file_extension": ".py",
      "mimetype": "text/x-python",
      "name": "python",
      "nbconvert_exporter": "python",
      "pygments_lexer": "ipython3",
      "version": "3.8.3"
    }
  },
  "cells": [
    {
      "cell_type": "markdown",
      "metadata": {
        "id": "nwXDen4ehffI"
      },
      "source": [
        "# Linear Algebra"
      ]
    },
    {
      "cell_type": "code",
      "metadata": {
        "id": "tDzgop1oTsvw"
      },
      "source": [
        "import numpy as np"
      ],
      "execution_count": null,
      "outputs": []
    },
    {
      "cell_type": "code",
      "metadata": {
        "id": "_SQYnEtZaRdT"
      },
      "source": [
        "from numpy import linalg as LA\n",
        "a = np.array([[1, 3], [2, 5]])"
      ],
      "execution_count": null,
      "outputs": []
    },
    {
      "cell_type": "code",
      "metadata": {
        "id": "uPZgJPR7aRYE"
      },
      "source": [
        "print(\"Original 2-d array\")\n",
        "print(a)"
      ],
      "execution_count": null,
      "outputs": []
    },
    {
      "cell_type": "code",
      "metadata": {
        "id": "0p9g98D9aRRn"
      },
      "source": [
        "print(\"Determinant of the 2-D array:\")\n",
        "print(np.linalg.det(a))"
      ],
      "execution_count": null,
      "outputs": []
    },
    {
      "cell_type": "markdown",
      "metadata": {
        "id": "smSVtVtxhfgJ"
      },
      "source": [
        "# Statistics"
      ]
    },
    {
      "cell_type": "code",
      "metadata": {
        "id": "1XVOqQ6hhfgK"
      },
      "source": [
        "a= np.arange(4).reshape((2,2))\n",
        "print(\"Original array:\")\n",
        "print(a)"
      ],
      "execution_count": null,
      "outputs": []
    },
    {
      "cell_type": "code",
      "metadata": {
        "id": "wJhtup_phfgQ"
      },
      "source": [
        "print(\"Maximum value:\")\n",
        "print(np.amax(a))"
      ],
      "execution_count": null,
      "outputs": []
    },
    {
      "cell_type": "code",
      "metadata": {
        "id": "COyCPfF0hfgV"
      },
      "source": [
        "print(\"Minimum value:\")\n",
        "print(np.amin(a))"
      ],
      "execution_count": null,
      "outputs": []
    },
    {
      "cell_type": "code",
      "metadata": {
        "id": "uNAlwMX4hfgZ"
      },
      "source": [
        "x = np.arange(10).reshape((2, 5))\n",
        "print(\"Original  array:\")\n",
        "print(x)\n",
        "r1 = np.percentile(x, 70, 1)\n",
        "print(\"70th percentile for all elements of the said array along the second axis:\")\n",
        "print(r1)"
      ],
      "execution_count": null,
      "outputs": []
    },
    {
      "cell_type": "code",
      "metadata": {
        "id": "5yKPRCdNhfge"
      },
      "source": [
        "import numpy as np\n",
        "x = np.arange(10).reshape((2, 5))\n",
        "print(\"Original array:\")\n",
        "print(x)\n",
        "r1 =  np.median(x)\n",
        "print(\"Median of array:\")\n",
        "print(r1)"
      ],
      "execution_count": null,
      "outputs": []
    },
    {
      "cell_type": "code",
      "metadata": {
        "id": "TMUVA2JOhfgi"
      },
      "source": [
        "x = np.array([0, 1, 2])\n",
        "y = np.array([2, 1, 0])\n",
        "print(\"\\nCovariance matrix of arrays:\\n\",np.cov(x, y))"
      ],
      "execution_count": null,
      "outputs": []
    },
    {
      "cell_type": "markdown",
      "metadata": {
        "id": "xO8evUEehk2w"
      },
      "source": [
        "# Mean"
      ]
    },
    {
      "cell_type": "code",
      "metadata": {
        "id": "ZBK9sbcAhk20"
      },
      "source": [
        "# Import required libraries\n",
        "import numpy as np"
      ],
      "execution_count": null,
      "outputs": []
    },
    {
      "cell_type": "code",
      "metadata": {
        "id": "cS17Wbnxhk2-"
      },
      "source": [
        "numbers = [98,83,85,78,105,85,109,65,81,68,97,112,89]"
      ],
      "execution_count": null,
      "outputs": []
    },
    {
      "cell_type": "code",
      "metadata": {
        "id": "KqFx6YEZhk3H"
      },
      "source": [
        "# Use formula to calculate mean\n",
        "avg = np.mean(numbers) "
      ],
      "execution_count": null,
      "outputs": []
    },
    {
      "cell_type": "code",
      "metadata": {
        "id": "TQ5hKcDehk3O"
      },
      "source": [
        "# Display store variable data\n",
        "print (avg)"
      ],
      "execution_count": null,
      "outputs": []
    },
    {
      "cell_type": "code",
      "metadata": {
        "id": "2rIYVKLdhk3k"
      },
      "source": [
        "# Gives the float value into rouned up \n",
        "mean_rounded = round(avg)"
      ],
      "execution_count": null,
      "outputs": []
    },
    {
      "cell_type": "code",
      "metadata": {
        "id": "gSLLvI2bhk3r"
      },
      "source": [
        "print(mean_rounded)"
      ],
      "execution_count": null,
      "outputs": []
    },
    {
      "cell_type": "markdown",
      "metadata": {
        "id": "LIS1q8Yvhk30"
      },
      "source": [
        "# Median"
      ]
    },
    {
      "cell_type": "code",
      "metadata": {
        "id": "Sz1SKZFchk32"
      },
      "source": [
        "# pass the numbers to calculate median store in variable \n",
        "med = np.median(numbers)"
      ],
      "execution_count": null,
      "outputs": []
    },
    {
      "cell_type": "code",
      "metadata": {
        "id": "7G2dfdc3hk37"
      },
      "source": [
        "# Display the median by adding middle range 2 numbers devide by 2\n",
        "print(med)"
      ],
      "execution_count": null,
      "outputs": []
    },
    {
      "cell_type": "markdown",
      "metadata": {
        "id": "aqf4Nyh2hk4R"
      },
      "source": [
        "# Variance"
      ]
    },
    {
      "cell_type": "markdown",
      "metadata": {
        "id": "bDQA-sPrhk4S"
      },
      "source": [
        "Variance - It measures the spread of random data in a set from its mean or median value"
      ]
    },
    {
      "cell_type": "code",
      "metadata": {
        "id": "V0cCwfJdhk4T"
      },
      "source": [
        "# The variance is the average number of these squared differences of given dataset\n",
        "var = np.var(numbers)"
      ],
      "execution_count": null,
      "outputs": []
    },
    {
      "cell_type": "code",
      "metadata": {
        "id": "iybdHk-khk4X"
      },
      "source": [
        "print(var)"
      ],
      "execution_count": null,
      "outputs": []
    },
    {
      "cell_type": "markdown",
      "metadata": {
        "id": "QZGLECaWhk4d"
      },
      "source": [
        "# Standard Deviation (S.D)"
      ]
    },
    {
      "cell_type": "markdown",
      "metadata": {
        "id": "mxYpWLWzhk4e"
      },
      "source": [
        "SD - Standard deviation is a number that describes how spread out the values are.\n",
        "\n",
        "Types -  1. A low standard deviation means that most of the numbers are close to the mean (average) value.\n",
        "\n",
        "2. A high standard deviation means that the values are spread out over a wider range."
      ]
    },
    {
      "cell_type": "code",
      "metadata": {
        "id": "996Lf3Irhk4f"
      },
      "source": [
        "sd = np.std(numbers)"
      ],
      "execution_count": null,
      "outputs": []
    },
    {
      "cell_type": "code",
      "metadata": {
        "id": "JtDJtxTJhk4l"
      },
      "source": [
        "# It mean most of the values are within the range of 14.14 from the mean value\n",
        "print(sd)"
      ],
      "execution_count": null,
      "outputs": []
    },
    {
      "cell_type": "code",
      "metadata": {
        "id": "OBQmWHYGhk4r"
      },
      "source": [
        "# Also we can find using - square root of variance as SD \n",
        "sd = np.sqrt(var)"
      ],
      "execution_count": null,
      "outputs": []
    },
    {
      "cell_type": "code",
      "metadata": {
        "id": "IPp_G7Kthk4w"
      },
      "source": [
        "print(sd)"
      ],
      "execution_count": null,
      "outputs": []
    },
    {
      "cell_type": "markdown",
      "metadata": {
        "id": "AbCKtYxFhk40"
      },
      "source": [
        "# Percentile"
      ]
    },
    {
      "cell_type": "markdown",
      "metadata": {
        "id": "g_eN2A2mhk41"
      },
      "source": [
        "Percentile - Used in statistics to give you a number that describes the value that a given percent of the values are lower than."
      ]
    },
    {
      "cell_type": "code",
      "metadata": {
        "id": "lnlpy9ayhk41"
      },
      "source": [
        "per = np.percentile(numbers,85)"
      ],
      "execution_count": null,
      "outputs": []
    },
    {
      "cell_type": "code",
      "metadata": {
        "id": "6Z2G0aG_hk47"
      },
      "source": [
        "# means that 85% of the numbers are the (output).\n",
        "print(per)"
      ],
      "execution_count": null,
      "outputs": []
    },
    {
      "cell_type": "code",
      "metadata": {
        "id": "nyuBReiyhiw3"
      },
      "source": [
        "a = np.array([[4, 2, 6],\n",
        "              [-2, -7, 4],\n",
        "              [5, 9, 1]])\n",
        "\n",
        "# We are getting rank of a matrix\n",
        "print(np.linalg.matrix_rank(a))"
      ],
      "execution_count": null,
      "outputs": []
    },
    {
      "cell_type": "code",
      "metadata": {
        "id": "cq3fd0ZvhixG"
      },
      "source": [
        "# We are making inverse of matrix a\n",
        "print(np.linalg.inv(a))"
      ],
      "execution_count": null,
      "outputs": []
    },
    {
      "cell_type": "code",
      "metadata": {
        "id": "dDS2FB7JhixM"
      },
      "source": [
        "from numpy import linalg as lg"
      ],
      "execution_count": null,
      "outputs": []
    },
    {
      "cell_type": "code",
      "metadata": {
        "id": "DoUPnj3NhixS"
      },
      "source": [
        "# We are creating an array using array function\n",
        "A = np.array([[3, -6j], [4j, 7]])\n",
        "print(A)"
      ],
      "execution_count": null,
      "outputs": []
    },
    {
      "cell_type": "code",
      "metadata": {
        "id": "ZuYpHPyohixX"
      },
      "source": [
        "# We are using eigh() function\n",
        "C, D = lg.eigh(A)\n",
        "print(C)\n",
        "print(D)"
      ],
      "execution_count": null,
      "outputs": []
    },
    {
      "cell_type": "code",
      "metadata": {
        "id": "eGlBh7Zxhixe"
      },
      "source": [
        "# We are creating an array using diag function\n",
        "A = np.diag((2, 5, 8))\n",
        "print(A)"
      ],
      "execution_count": null,
      "outputs": []
    }
  ]
}