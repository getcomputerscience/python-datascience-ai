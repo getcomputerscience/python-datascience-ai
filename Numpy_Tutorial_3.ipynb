{
  "nbformat": 4,
  "nbformat_minor": 0,
  "metadata": {
    "colab": {
      "name": "Numpy Tutorial 3.ipynb",
      "provenance": []
    },
    "kernelspec": {
      "display_name": "Python 3",
      "language": "python",
      "name": "python3"
    },
    "language_info": {
      "codemirror_mode": {
        "name": "ipython",
        "version": 3
      },
      "file_extension": ".py",
      "mimetype": "text/x-python",
      "name": "python",
      "nbconvert_exporter": "python",
      "pygments_lexer": "ipython3",
      "version": "3.8.3"
    }
  },
  "cells": [
    {
      "cell_type": "code",
      "metadata": {
        "id": "PRX3MFSqHy-M"
      },
      "source": [
        "import numpy as np"
      ],
      "execution_count": null,
      "outputs": []
    },
    {
      "cell_type": "code",
      "metadata": {
        "id": "3Wy0Mc5wT1yo"
      },
      "source": [
        "print(\"Add:\")\n",
        "print(np.add(1.0, 6.0))"
      ],
      "execution_count": null,
      "outputs": []
    },
    {
      "cell_type": "code",
      "metadata": {
        "id": "X4YPtuWLT1t9"
      },
      "source": [
        "print(\"Subtract:\")\n",
        "print(np.subtract(1.0, 5.0))"
      ],
      "execution_count": null,
      "outputs": []
    },
    {
      "cell_type": "code",
      "metadata": {
        "id": "T_M50TsyT1ow"
      },
      "source": [
        "print(\"Multiply:\")\n",
        "print(np.multiply(3.0, 4.0))"
      ],
      "execution_count": null,
      "outputs": []
    },
    {
      "cell_type": "code",
      "metadata": {
        "id": "26BEgLkST1lM"
      },
      "source": [
        "print(\"Divide:\")\n",
        "print(np.divide(16.0, 4.0))"
      ],
      "execution_count": null,
      "outputs": []
    },
    {
      "cell_type": "code",
      "metadata": {
        "id": "QJU4_JIgT1hr"
      },
      "source": [
        "x = np.arange(10)\n",
        "print(\"Original array:\")\n",
        "print(x)"
      ],
      "execution_count": null,
      "outputs": []
    },
    {
      "cell_type": "code",
      "metadata": {
        "id": "wG_55nn5T1Zj"
      },
      "source": [
        "print(\"Division of the array inputs, element-wise:\")\n",
        "print(np.true_divide(x, 2))"
      ],
      "execution_count": null,
      "outputs": []
    },
    {
      "cell_type": "code",
      "metadata": {
        "id": "DxpPN3s0T1Sc"
      },
      "source": [
        "print(\"Largest integer smaller or equal to the division of the inputs:\")\n",
        "print(np.floor_divide(x, 2))"
      ],
      "execution_count": null,
      "outputs": []
    },
    {
      "cell_type": "code",
      "metadata": {
        "id": "vm_jKNjwT1Ny"
      },
      "source": [
        "print(\"First array elements raised to powers from second array, element-wise:\")\n",
        "print(np.power(x, 2))"
      ],
      "execution_count": null,
      "outputs": []
    },
    {
      "cell_type": "code",
      "metadata": {
        "id": "BbZLjRMcT1JG"
      },
      "source": [
        "print(\"Element-wise remainder of division:\")\n",
        "print(np.remainder(x, 2))"
      ],
      "execution_count": null,
      "outputs": []
    },
    {
      "cell_type": "code",
      "metadata": {
        "id": "dwdxGx9pT0_9"
      },
      "source": [
        "x = np.array([-10, 12, .30])\n",
        "print(\"Original array:\")\n",
        "print(x)"
      ],
      "execution_count": null,
      "outputs": []
    },
    {
      "cell_type": "code",
      "metadata": {
        "id": "oS_jHzrgT05j"
      },
      "source": [
        "print(\"Element-wise absolute value:\")\n",
        "print(np.absolute(x))"
      ],
      "execution_count": null,
      "outputs": []
    },
    {
      "cell_type": "code",
      "metadata": {
        "id": "q5ARAdtVT0wf"
      },
      "source": [
        "x = np.round([1.75, 1.55, 2.55])\n",
        "print(x)"
      ],
      "execution_count": null,
      "outputs": []
    },
    {
      "cell_type": "code",
      "metadata": {
        "id": "DuvCB9RIUy7B"
      },
      "source": [
        "x = np.round([0.38, .75, .54], decimals=1)\n",
        "print(x)"
      ],
      "execution_count": null,
      "outputs": []
    },
    {
      "cell_type": "code",
      "metadata": {
        "id": "9E2aWZacUzY5"
      },
      "source": [
        "x = np.array([-1., 0, 1.])"
      ],
      "execution_count": null,
      "outputs": []
    },
    {
      "cell_type": "code",
      "metadata": {
        "id": "vmiVhgzeUzTt"
      },
      "source": [
        "print(np.sinh(x))"
      ],
      "execution_count": null,
      "outputs": []
    },
    {
      "cell_type": "code",
      "metadata": {
        "id": "Y1PoEegtW-jV"
      },
      "source": [
        "print(\"Inverse sine:\", np.arcsin(x))"
      ],
      "execution_count": null,
      "outputs": []
    },
    {
      "cell_type": "code",
      "metadata": {
        "id": "P03edtNrUzOj"
      },
      "source": [
        "print(np.cosh(x))"
      ],
      "execution_count": null,
      "outputs": []
    },
    {
      "cell_type": "code",
      "metadata": {
        "id": "zYESXs0_W_SD"
      },
      "source": [
        "print(\"Inverse cosine:\", np.arccos(x))"
      ],
      "execution_count": null,
      "outputs": []
    },
    {
      "cell_type": "code",
      "metadata": {
        "id": "6LyKJobUUzIB"
      },
      "source": [
        "print(np.tanh(x))"
      ],
      "execution_count": null,
      "outputs": []
    },
    {
      "cell_type": "code",
      "metadata": {
        "id": "KjmTrE4tXAXF"
      },
      "source": [
        "print(\"Inverse tangent:\", np.arctan(x))"
      ],
      "execution_count": null,
      "outputs": []
    },
    {
      "cell_type": "code",
      "metadata": {
        "id": "AOBoQzKgT0ec"
      },
      "source": [
        "x = np.array([-180.,  -90.,   90.,  180.])"
      ],
      "execution_count": null,
      "outputs": []
    },
    {
      "cell_type": "code",
      "metadata": {
        "id": "DjrYaS5HWmMJ"
      },
      "source": [
        "r1 = np.radians(x)\n",
        "r1"
      ],
      "execution_count": null,
      "outputs": []
    },
    {
      "cell_type": "code",
      "metadata": {
        "id": "UOyGpO3iWmGW"
      },
      "source": [
        "r2 = np.deg2rad(x)\n",
        "r2"
      ],
      "execution_count": null,
      "outputs": []
    },
    {
      "cell_type": "code",
      "metadata": {
        "id": "B-HaPJTeWmA1"
      },
      "source": [
        "x = np.array([-np.pi, -np.pi/2, np.pi/2, np.pi])"
      ],
      "execution_count": null,
      "outputs": []
    },
    {
      "cell_type": "code",
      "metadata": {
        "id": "9qWMYGq2Wl7u"
      },
      "source": [
        "r1 = np.degrees(x)\n",
        "r1"
      ],
      "execution_count": null,
      "outputs": []
    },
    {
      "cell_type": "code",
      "metadata": {
        "id": "cAffbs4LWl3d"
      },
      "source": [
        "r2 = np.rad2deg(x)\n",
        "r2"
      ],
      "execution_count": null,
      "outputs": []
    },
    {
      "cell_type": "code",
      "metadata": {
        "id": "NntDH3dRWlyd"
      },
      "source": [
        "print(\"sine: array of angles given in degrees\")\n",
        "print(np.sin(np.array((0., 30., 45., 60., 90.)) * np.pi / 180.))"
      ],
      "execution_count": null,
      "outputs": []
    },
    {
      "cell_type": "code",
      "metadata": {
        "id": "6lGyfI-hWltb"
      },
      "source": [
        "print(\"cosine: array of angles given in degrees\")\n",
        "print(np.cos(np.array((0., 30., 45., 60., 90.)) * np.pi / 180.))"
      ],
      "execution_count": null,
      "outputs": []
    },
    {
      "cell_type": "code",
      "metadata": {
        "id": "ML2LUoAGWlox"
      },
      "source": [
        "print(\"tangent: array of angles given in degrees\")\n",
        "print(np.tan(np.array((0., 30., 45., 60., 90.)) * np.pi / 180.))"
      ],
      "execution_count": null,
      "outputs": []
    },
    {
      "cell_type": "code",
      "metadata": {
        "id": "uBIgnAw4Xh7e"
      },
      "source": [
        "x = np.array([4.1, 4.5, 5.5, 3.9, -4.1, -4.5, -6.9])\n",
        "print(\"Original array: \")\n",
        "print(x)"
      ],
      "execution_count": null,
      "outputs": []
    },
    {
      "cell_type": "code",
      "metadata": {
        "id": "zDiWL1RpXh21"
      },
      "source": [
        "r1 = np.around(x)\n",
        "print(\"\\naround:   \", r1)"
      ],
      "execution_count": null,
      "outputs": []
    },
    {
      "cell_type": "code",
      "metadata": {
        "id": "-E9LHd-zXhxl"
      },
      "source": [
        "r2 = np.floor(x)\n",
        "print(\"floor:    \",r2)"
      ],
      "execution_count": null,
      "outputs": []
    },
    {
      "cell_type": "code",
      "metadata": {
        "id": "FLLoN_z1XhtE"
      },
      "source": [
        "r3 = np.ceil(x)\n",
        "print(\"ceil:     \",r3)"
      ],
      "execution_count": null,
      "outputs": []
    },
    {
      "cell_type": "code",
      "metadata": {
        "id": "if_W1ySSXhdI"
      },
      "source": [
        "x = np.random.randn(10)\n",
        "x"
      ],
      "execution_count": null,
      "outputs": []
    },
    {
      "cell_type": "code",
      "metadata": {
        "id": "QouQNY-cXhYC"
      },
      "source": [
        "print(\"Average of the array elements:\")\n",
        "mean = x.mean()\n",
        "print(mean)"
      ],
      "execution_count": null,
      "outputs": []
    },
    {
      "cell_type": "code",
      "metadata": {
        "id": "owP7fnfpXhRl"
      },
      "source": [
        "print(\"Standard deviation of the array elements:\")\n",
        "std = x.std()\n",
        "print(std)"
      ],
      "execution_count": null,
      "outputs": []
    },
    {
      "cell_type": "code",
      "metadata": {
        "id": "FAOqxeQXYU_H"
      },
      "source": [
        "print(\"Variance of the array elements:\")\n",
        "var = x.var()\n",
        "print(var)"
      ],
      "execution_count": null,
      "outputs": []
    },
    {
      "cell_type": "code",
      "metadata": {
        "id": "Z1zRW8Q9YUgK"
      },
      "source": [
        "x = [[1, 0], [1, 5]]\n",
        "y = [[4, 1], [2, 2]]"
      ],
      "execution_count": null,
      "outputs": []
    },
    {
      "cell_type": "code",
      "metadata": {
        "id": "F0Y75Dt8YUZo"
      },
      "source": [
        "print(\"Matrix product of above two arrays:\")\n",
        "print(np.matmul(x, y))"
      ],
      "execution_count": null,
      "outputs": []
    },
    {
      "cell_type": "code",
      "metadata": {
        "id": "V_1t55hVY6gV"
      },
      "source": [
        "x = np.array([1, 13, 15, 17, 0])\n",
        "print(\"Original array: \")\n",
        "print(x)\n",
        "print(\"Difference between neighboring elements, element-wise of the said array.\")\n",
        "print(np.diff(x))"
      ],
      "execution_count": null,
      "outputs": []
    },
    {
      "cell_type": "code",
      "metadata": {
        "id": "gZz3rxmAY6aX"
      },
      "source": [
        "x = np.array([1, np.e, np.e**2])\n",
        "print(\"Original array: \")\n",
        "print(x)"
      ],
      "execution_count": null,
      "outputs": []
    },
    {
      "cell_type": "code",
      "metadata": {
        "id": "6-4xLkmvY6Tg"
      },
      "source": [
        "print(\"\\nNatural log =\", np.log(x))"
      ],
      "execution_count": null,
      "outputs": []
    },
    {
      "cell_type": "code",
      "metadata": {
        "id": "XXpzYHIZY6N_"
      },
      "source": [
        "print(\"Common log =\", np.log10(x))"
      ],
      "execution_count": null,
      "outputs": []
    },
    {
      "cell_type": "code",
      "metadata": {
        "id": "LxmNIkT6Y6FK"
      },
      "source": [
        "print(\"Base 2 log =\", np.log2(x))"
      ],
      "execution_count": null,
      "outputs": []
    },
    {
      "cell_type": "markdown",
      "metadata": {
        "id": "aeVYsvbY0JTJ"
      },
      "source": [
        "#Element wise arithmetic operation"
      ]
    },
    {
      "cell_type": "code",
      "metadata": {
        "id": "0Xi0pzFH0LEa"
      },
      "source": [
        "x = np.array([[1,2],[3,4]])\n",
        "y = np.array([[5,6],[7,8]])"
      ],
      "execution_count": null,
      "outputs": []
    },
    {
      "cell_type": "code",
      "metadata": {
        "id": "QZvxPvl-0PrH"
      },
      "source": [
        "print(np.add(x, y))"
      ],
      "execution_count": null,
      "outputs": []
    },
    {
      "cell_type": "code",
      "metadata": {
        "id": "yLaIuvhh0Pux"
      },
      "source": [
        "print(np.subtract(x, y))"
      ],
      "execution_count": null,
      "outputs": []
    },
    {
      "cell_type": "code",
      "metadata": {
        "id": "uZv3TpVE0Pyk"
      },
      "source": [
        "print(np.multiply(x, y))"
      ],
      "execution_count": null,
      "outputs": []
    },
    {
      "cell_type": "code",
      "metadata": {
        "id": "SfeL9gHm0P1e"
      },
      "source": [
        "print(np.divide(x, y))"
      ],
      "execution_count": null,
      "outputs": []
    },
    {
      "cell_type": "code",
      "metadata": {
        "id": "teo5WN0G0P6l"
      },
      "source": [
        "print(np.sqrt(x))"
      ],
      "execution_count": null,
      "outputs": []
    },
    {
      "cell_type": "code",
      "metadata": {
        "id": "mvPoGGPx3A3Y"
      },
      "source": [
        "a = int(input('Enter first number: '))\n",
        "b = int(input('Enter second number: '))\n",
        "c = np.lcm(a, b) #Generating Least Common Multiple of numbers.\n",
        "print(c)"
      ],
      "execution_count": null,
      "outputs": []
    },
    {
      "cell_type": "code",
      "metadata": {
        "id": "C6JbY6jO0P9R"
      },
      "source": [
        "new = float(input('Enter a deicmal number: '))\n",
        "a = np.round(new, 2) #Used for rounding of an Decimal numbers.\n",
        "print(a)"
      ],
      "execution_count": null,
      "outputs": []
    },
    {
      "cell_type": "code",
      "metadata": {
        "id": "ss_UlAT93Ewu"
      },
      "source": [
        "a = float(input('Enter a decimal number:'))\n",
        "b = np.floor(a) #Used to round of to nearest lower integer.\n",
        "c = np.ceil(a) #Used to round of to nearest upper integer.\n",
        "print(\"Flooring value of \",a,\" is \",b)\n",
        "print(\"Ceiling value of \",a,\" is\", c)"
      ],
      "execution_count": null,
      "outputs": []
    },
    {
      "cell_type": "code",
      "metadata": {
        "id": "uNwJJ7Ff3ICh"
      },
      "source": [
        "l1 = [10, 20, 30, 40 ,50, 60]\n",
        "l2 = [100, 90, 80, 70, 60, 50]\n",
        "# We are convert list into a array\n",
        "A1 = np.array(l1)\n",
        "A2 = np.array(l2)\n",
        "print(A1*A2)"
      ],
      "execution_count": null,
      "outputs": []
    },
    {
      "cell_type": "code",
      "metadata": {
        "id": "duMopFtD3dwq"
      },
      "source": [
        "# More Mathematical operation on Numpy"
      ],
      "execution_count": null,
      "outputs": []
    },
    {
      "cell_type": "code",
      "metadata": {
        "id": "bEylxNVH3e4o"
      },
      "source": [
        "np.remainder([-3, -2, -1, 1, 2, 3], 2)"
      ],
      "execution_count": null,
      "outputs": []
    },
    {
      "cell_type": "code",
      "metadata": {
        "id": "mnz26Mzf3e7z"
      },
      "source": [
        "np.copysign(1.3, -1)"
      ],
      "execution_count": null,
      "outputs": []
    },
    {
      "cell_type": "code",
      "metadata": {
        "id": "tfeG-nD83e-6"
      },
      "source": [
        "np.signbit(-1.2)"
      ],
      "execution_count": null,
      "outputs": []
    },
    {
      "cell_type": "code",
      "metadata": {
        "id": "945Ti_O73fBw"
      },
      "source": [
        "np.signbit(1.2)"
      ],
      "execution_count": null,
      "outputs": []
    },
    {
      "cell_type": "code",
      "metadata": {
        "id": "g1P6vIEA3ybC"
      },
      "source": [
        "np.isfinite(1)"
      ],
      "execution_count": null,
      "outputs": []
    },
    {
      "cell_type": "code",
      "metadata": {
        "id": "FDBSZ1N13yeP"
      },
      "source": [
        "np.lcm(12, 20)"
      ],
      "execution_count": null,
      "outputs": []
    },
    {
      "cell_type": "code",
      "metadata": {
        "id": "DUF5fXW23yhf"
      },
      "source": [
        "np.gcd(12, 20)"
      ],
      "execution_count": null,
      "outputs": []
    },
    {
      "cell_type": "code",
      "metadata": {
        "id": "A3_gNmO54Isw"
      },
      "source": [
        "np.reciprocal(2.)"
      ],
      "execution_count": null,
      "outputs": []
    },
    {
      "cell_type": "code",
      "metadata": {
        "id": "5sLzisz8La9n"
      },
      "source": [
        "np.reciprocal([1, 2, 3.33])"
      ],
      "execution_count": null,
      "outputs": []
    },
    {
      "cell_type": "code",
      "metadata": {
        "id": "rB_G9Vy4La5A"
      },
      "source": [
        "np.cbrt([1,8,27])"
      ],
      "execution_count": null,
      "outputs": []
    },
    {
      "cell_type": "code",
      "metadata": {
        "id": "-Yk4GHLuLazO"
      },
      "source": [
        "np.square([-1j, 1])"
      ],
      "execution_count": null,
      "outputs": []
    },
    {
      "cell_type": "code",
      "metadata": {
        "id": "rvHNxpTxLasz"
      },
      "source": [
        "np.square([3,5,6])"
      ],
      "execution_count": null,
      "outputs": []
    },
    {
      "cell_type": "code",
      "metadata": {
        "id": "M1Zd9hFbL2xz"
      },
      "source": [
        "np.sqrt([1,4,9])"
      ],
      "execution_count": null,
      "outputs": []
    },
    {
      "cell_type": "code",
      "metadata": {
        "id": "Lw8V7nk4L3eu"
      },
      "source": [
        "np.log10([10,100])"
      ],
      "execution_count": null,
      "outputs": []
    },
    {
      "cell_type": "code",
      "metadata": {
        "id": "WaBqrWKJL3Xu"
      },
      "source": [
        "np.log2([10,100])"
      ],
      "execution_count": null,
      "outputs": []
    },
    {
      "cell_type": "code",
      "metadata": {
        "id": "iBBogXkKL2sc"
      },
      "source": [
        "np.log([10,100])"
      ],
      "execution_count": null,
      "outputs": []
    },
    {
      "cell_type": "code",
      "metadata": {
        "id": "qh8gjgoHL2nJ"
      },
      "source": [
        "np.exp2([2, 3])"
      ],
      "execution_count": null,
      "outputs": []
    },
    {
      "cell_type": "code",
      "metadata": {
        "id": "xxMiAWNXL2dq"
      },
      "source": [
        "np.conjugate(1+2j)"
      ],
      "execution_count": null,
      "outputs": []
    },
    {
      "cell_type": "code",
      "metadata": {
        "id": "2-yGZn7YL2Ra"
      },
      "source": [
        "np.negative([1.,-1.])"
      ],
      "execution_count": null,
      "outputs": []
    },
    {
      "cell_type": "code",
      "metadata": {
        "id": "ZqK7qU4EL2Jl"
      },
      "source": [
        "np.sign([-5., 4.5])"
      ],
      "execution_count": null,
      "outputs": []
    },
    {
      "cell_type": "code",
      "metadata": {
        "id": "0IarL5wbM3YO"
      },
      "source": [
        "np.absolute(1.2 + 1j)"
      ],
      "execution_count": null,
      "outputs": []
    },
    {
      "cell_type": "code",
      "metadata": {
        "id": "XPBCooyLM35e"
      },
      "source": [
        "np.divmod(np.arange(5), 3)"
      ],
      "execution_count": null,
      "outputs": []
    },
    {
      "cell_type": "code",
      "metadata": {
        "id": "nX7lS1QmM4cf"
      },
      "source": [
        "x = range(6)\n",
        "np.power(x, 3)"
      ],
      "execution_count": null,
      "outputs": []
    },
    {
      "cell_type": "code",
      "metadata": {
        "id": "vtmtVSS278U3"
      },
      "source": [
        "mat=np.arange(1,26).reshape(5,5)\n",
        "mat"
      ],
      "execution_count": null,
      "outputs": []
    },
    {
      "cell_type": "code",
      "metadata": {
        "id": "F48BjiS479Ei"
      },
      "source": [
        "mat[2:,1:]"
      ],
      "execution_count": null,
      "outputs": []
    },
    {
      "cell_type": "code",
      "metadata": {
        "id": "v723RYqy79h0"
      },
      "source": [
        "mat[3,4]"
      ],
      "execution_count": null,
      "outputs": []
    },
    {
      "cell_type": "code",
      "metadata": {
        "id": "zhMMOtVq797-"
      },
      "source": [
        "mat[:3,1:2]"
      ],
      "execution_count": null,
      "outputs": []
    },
    {
      "cell_type": "code",
      "metadata": {
        "id": "oQiSb12z7-ON"
      },
      "source": [
        "mat[4,:]"
      ],
      "execution_count": null,
      "outputs": []
    },
    {
      "cell_type": "code",
      "metadata": {
        "id": "To9P-GWz7-fL"
      },
      "source": [
        "mat[3:5,:]"
      ],
      "execution_count": null,
      "outputs": []
    },
    {
      "cell_type": "code",
      "metadata": {
        "id": "UTqgdX8W7_FV"
      },
      "source": [
        "mat.sum()"
      ],
      "execution_count": null,
      "outputs": []
    },
    {
      "cell_type": "code",
      "metadata": {
        "id": "mPUyNt0G7_Ua"
      },
      "source": [
        "mat.std()"
      ],
      "execution_count": null,
      "outputs": []
    },
    {
      "cell_type": "code",
      "metadata": {
        "id": "Yn2Q-mz87--a"
      },
      "source": [
        "mat.sum(axis=0)"
      ],
      "execution_count": null,
      "outputs": []
    },
    {
      "cell_type": "code",
      "metadata": {
        "id": "Tf9YsssQ7-0h"
      },
      "source": [
        "mat.sum(axis=1)"
      ],
      "execution_count": null,
      "outputs": []
    },
    {
      "cell_type": "markdown",
      "metadata": {
        "id": "UpCWAFV2-nGn"
      },
      "source": [
        "Arithmetic Operation"
      ]
    },
    {
      "cell_type": "code",
      "metadata": {
        "id": "8a_A6MLd-xCz"
      },
      "source": [
        "arr = np.arange(0,10)"
      ],
      "execution_count": null,
      "outputs": []
    },
    {
      "cell_type": "code",
      "metadata": {
        "id": "OqIE3cBH-xss"
      },
      "source": [
        "print(arr)"
      ],
      "execution_count": null,
      "outputs": []
    },
    {
      "cell_type": "code",
      "metadata": {
        "id": "GPZtZNka-yBu"
      },
      "source": [
        "arr+arr"
      ],
      "execution_count": null,
      "outputs": []
    },
    {
      "cell_type": "code",
      "metadata": {
        "id": "fnJX65w6-yST"
      },
      "source": [
        "arr*arr"
      ],
      "execution_count": null,
      "outputs": []
    },
    {
      "cell_type": "code",
      "metadata": {
        "id": "gme0vdME-y2Q"
      },
      "source": [
        "arr/arr"
      ],
      "execution_count": null,
      "outputs": []
    },
    {
      "cell_type": "code",
      "metadata": {
        "id": "TS13majE-zG1"
      },
      "source": [
        "arr-arr"
      ],
      "execution_count": null,
      "outputs": []
    }
  ]
}