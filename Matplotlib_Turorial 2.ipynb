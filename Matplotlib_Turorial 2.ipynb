{
  "nbformat": 4,
  "nbformat_minor": 0,
  "metadata": {
    "kernelspec": {
      "display_name": "Python 3",
      "language": "python",
      "name": "python3"
    },
    "language_info": {
      "codemirror_mode": {
        "name": "ipython",
        "version": 3
      },
      "file_extension": ".py",
      "mimetype": "text/x-python",
      "name": "python",
      "nbconvert_exporter": "python",
      "pygments_lexer": "ipython3",
      "version": "3.8.5"
    },
    "colab": {
      "name": "Matplotlib Turorial New.ipynb",
      "provenance": [],
      "collapsed_sections": []
    }
  },
  "cells": [
    {
      "cell_type": "markdown",
      "metadata": {
        "id": "xCJwH9U9CKbN"
      },
      "source": [
        "# MATPLOTLIB Library"
      ]
    },
    {
      "cell_type": "code",
      "metadata": {
        "id": "K6Q2g56zCKbP"
      },
      "source": [
        "import matplotlib.pyplot as plt\n",
        "import numpy as num"
      ],
      "execution_count": null,
      "outputs": []
    },
    {
      "cell_type": "code",
      "metadata": {
        "id": "fOCazSLHCKbU"
      },
      "source": [
        "#line plot\n",
        "x_axis = num.array([0, 5, 10, 15, 20, 25, 30])\n",
        "plt.plot(x_axis,x_axis*2)\n",
        "\n",
        "\n",
        "plt.xlabel(\"X Axis\")\n",
        "plt.ylabel(\"Y Axis\")\n",
        "\n",
        "\n",
        "plt.title(\"My first plot\")\n",
        "\n",
        "plt.show()"
      ],
      "execution_count": null,
      "outputs": []
    },
    {
      "cell_type": "code",
      "metadata": {
        "id": "_Zl1-6PRCKbW"
      },
      "source": [
        "plt.plot(x_axis,x_axis**2,'red',label='x=y**2')\n",
        "\n",
        "plt.legend()\n",
        "\n",
        "plt.show()"
      ],
      "execution_count": null,
      "outputs": []
    },
    {
      "cell_type": "code",
      "metadata": {
        "id": "8Ej01fpxCKbY"
      },
      "source": [
        "#multiple plt\n",
        "y_axis = x_axis**2\n",
        "\n",
        "plt.subplot(2,1,1)\n",
        "\n",
        "plt.plot(x_axis, y_axis, 'g--') \n",
        "plt.subplot(2,1,2)\n",
        "\n",
        "plt.plot(x_axis, y_axis,'b*-')\n",
        "plt.show()"
      ],
      "execution_count": null,
      "outputs": []
    },
    {
      "cell_type": "code",
      "metadata": {
        "id": "8MvvdrsACKbm"
      },
      "source": [
        "empty_canvas = plt.figure(figsize=(7,3), dpi=65)\n",
        "\n",
        "create_axis = empty_canvas.add_axes([0, 0, 1, 1]) \n",
        "\n",
        "create_axis.plot(x_axis, y_axis, 'b')\n"
      ],
      "execution_count": null,
      "outputs": []
    },
    {
      "cell_type": "code",
      "metadata": {
        "id": "0tMft5KDCKbr"
      },
      "source": [
        "empty_canvas.savefig(\"Fig.png\")"
      ],
      "execution_count": null,
      "outputs": []
    },
    {
      "cell_type": "code",
      "metadata": {
        "id": "cecKe2DpCKbt"
      },
      "source": [
        "empty_canvas.savefig(\"Fig.jpg\", dpi=200)"
      ],
      "execution_count": null,
      "outputs": []
    },
    {
      "cell_type": "code",
      "metadata": {
        "id": "9vXxR9cxCKbv"
      },
      "source": [
        "empty_canvas = plt.figure()\n",
        "\n",
        "create_axis = empty_canvas.add_axes([0, 0, 1, 1]) \n",
        "\n",
        "create_axis.plot(x_axis, y_axis, 'b', label = \"x = x**2\")\n",
        "create_axis.plot(x_axis, y_axis+(x_axis*3), 'g', label = \"x = y+(x*3)\")\n",
        "\n",
        "create_axis.legend(loc=0)"
      ],
      "execution_count": null,
      "outputs": []
    },
    {
      "cell_type": "code",
      "metadata": {
        "id": "HZviYs_-CKb8"
      },
      "source": [
        "\n",
        "import pandas as pd\n",
        "\n",
        "\n",
        "dictionary = {1998: [145, 132,156, 135], 2001: [137, 171, 97, 60], 2003: [118, 131, 120, 115], \n",
        "     2004:[121, 130,87, 50], 2007: [110, 123, 109, 105]}\n",
        "\n",
        "df= pd.DataFrame(dictionary, index=['India','China','Japan','USA'])\n"
      ],
      "execution_count": null,
      "outputs": []
    },
    {
      "cell_type": "code",
      "metadata": {
        "id": "C3qX_4WwCKb-"
      },
      "source": [
        "plt.hist(df, label = ['India','China','Japan','USA'])\n",
        "\n",
        "plt.legend()\n",
        "\n",
        "plt.show()"
      ],
      "execution_count": null,
      "outputs": []
    },
    {
      "cell_type": "code",
      "metadata": {
        "id": "TfL9caVcCKcA"
      },
      "source": [
        "\n",
        "plt.boxplot(df)\n",
        "\n",
        "plt.show()"
      ],
      "execution_count": null,
      "outputs": []
    },
    {
      "cell_type": "code",
      "metadata": {
        "id": "PRyuGbTgCKcB"
      },
      "source": [
        "\n",
        "df.plot(kind='area')\n",
        "\n",
        "\n",
        "plt.show()"
      ],
      "execution_count": null,
      "outputs": []
    }
  ]
}