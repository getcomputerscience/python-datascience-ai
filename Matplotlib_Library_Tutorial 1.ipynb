{
  "nbformat": 4,
  "nbformat_minor": 0,
  "metadata": {
    "colab": {
      "name": "Matplotlib Library Tutorial.ipynb",
      "provenance": [],
      "collapsed_sections": []
    },
    "kernelspec": {
      "name": "python3",
      "display_name": "Python 3"
    }
  },
  "cells": [
    {
      "cell_type": "markdown",
      "metadata": {
        "id": "JgC3scJ5RB95"
      },
      "source": [
        "#Stacked bar chart"
      ]
    },
    {
      "cell_type": "code",
      "metadata": {
        "id": "1TYgJ2BCQ6BQ"
      },
      "source": [
        "import matplotlib.pyplot as plt\n",
        "\n",
        "#Data\n",
        "labels = ['Group1', 'Group2', 'Group3', 'Group4', 'Group5']\n",
        "men_age = [20, 35, 30, 35, 27]\n",
        "women_age = [25, 32, 34, 20, 25]\n",
        "\n",
        "\n",
        "fig, ax = plt.subplots()\n",
        "\n",
        "#Plot Details\n",
        "ax.bar(labels, men_age,label='Men')\n",
        "ax.bar(labels, women_age,bottom=men_age,label='Women')\n",
        "\n",
        "\n",
        "#Label\n",
        "ax.set_ylabel('Age')\n",
        "ax.set_xlabel('Group Number')\n",
        "ax.set_title('Gender Ratio by group')\n",
        "\n",
        "ax.legend()\n",
        "plt.show()"
      ],
      "execution_count": null,
      "outputs": []
    },
    {
      "cell_type": "markdown",
      "metadata": {
        "id": "JemTq9UEWOVQ"
      },
      "source": [
        "#bar chart\n"
      ]
    },
    {
      "cell_type": "code",
      "metadata": {
        "id": "aR7XWjeSTHGH"
      },
      "source": [
        "import matplotlib.pyplot as plt\n",
        "import numpy as np\n",
        "\n",
        "classes=[\"Python\",\"R\",\"AI\",\"ML\",\"DS\"]\n",
        "class1_Students=[30,10,20,25,10]\n",
        "class2_Students=[40,5,20,20,10]\n",
        "\n",
        "class_index=np.arange(len(classes))  #5\n",
        "width=0.2\n",
        "\n",
        "plt.bar(class_index,class1_Students,width,label=\"class1 Students\")\n",
        "plt.bar(class_index+width,class2_Students,width,label=\"class2 Students\")\n",
        "\n",
        "plt.xticks(class_index+width,classes)\n",
        "\n",
        "plt.title(\"Bar Chart of CLASSES\")\n",
        "plt.xlabel(\"Classes\")\n",
        "plt.ylabel(\"No. of students\")\n",
        "plt.show()"
      ],
      "execution_count": null,
      "outputs": []
    },
    {
      "cell_type": "markdown",
      "metadata": {
        "id": "mmiiz6jEXEGD"
      },
      "source": [
        "\n",
        "#Horizontal bar chart\n",
        "\n",
        "#Column Chart"
      ]
    },
    {
      "cell_type": "code",
      "metadata": {
        "id": "2j3e4objVhxl"
      },
      "source": [
        "import matplotlib.pyplot as plt\n",
        "import numpy as np\n",
        "\n",
        "classes=[\"Python\",\"R\",\"AI\",\"ML\",\"DS\"]\n",
        "class1_Students=[30,10,20,25,10]\n",
        "class2_Students=[40,5,20,20,10]\n",
        "\n",
        "class_index=np.arange(len(classes))\n",
        "width=0.2\n",
        "\n",
        "plt.barh(class_index,class1_Students,width,label=\"class1 Students\")\n",
        "plt.barh(class_index+width,class2_Students,width,label=\"class2 Students\")\n",
        "\n",
        "\n",
        "plt.yticks(class_index+width,classes)   #Note this \n",
        "\n",
        "plt.title(\"Bar Chart of CLASSES\")\n",
        "plt.xlabel(\"Classes\")\n",
        "plt.ylabel(\"No. of students\")\n",
        "plt.show()"
      ],
      "execution_count": null,
      "outputs": []
    },
    {
      "cell_type": "markdown",
      "metadata": {
        "id": "3KnwTso7XkJ7"
      },
      "source": [
        "#Bar Chart"
      ]
    },
    {
      "cell_type": "code",
      "metadata": {
        "id": "cGnxuKsIXKZB"
      },
      "source": [
        "import matplotlib.pyplot as plt\n",
        "\n",
        "data = {'Batch 1': 10, 'Batch 2': 15, 'Batch 3': 5, 'Batch 4': 20}  #Dics\n",
        "names = list(data.keys())\n",
        "values = list(data.values())\n",
        "\n",
        "plt.bar(names, values)\n",
        "plt.show()"
      ],
      "execution_count": null,
      "outputs": []
    },
    {
      "cell_type": "markdown",
      "metadata": {
        "id": "NThOOEGAYTs2"
      },
      "source": [
        "#scatter Chart"
      ]
    },
    {
      "cell_type": "code",
      "metadata": {
        "id": "W5ZUAmDmXzUw"
      },
      "source": [
        "import matplotlib.pyplot as plt\n",
        "\n",
        "data = {'Batch 1': 10, 'Batch 2': 15, 'Batch 3': 5, 'Batch 4': 20}\n",
        "names = list(data.keys())\n",
        "values = list(data.values())\n",
        "\n",
        "plt.scatter(names, values)\n",
        "plt.show()"
      ],
      "execution_count": null,
      "outputs": []
    },
    {
      "cell_type": "code",
      "metadata": {
        "id": "Vnh9dmoygcvk"
      },
      "source": [
        "import matplotlib.pyplot as plt\n",
        "\n",
        "data = {'Batch 1': 10, 'Batch 2': 15, 'Batch 3': 5, 'Batch 4': 20}\n",
        "names = list(data.keys())\n",
        "values = list(data.values())\n",
        "x= 100                      # Change value and see effect\n",
        "plt.scatter(names, values,x, marker=r'$\\clubsuit$')\n",
        "plt.show()"
      ],
      "execution_count": null,
      "outputs": []
    },
    {
      "cell_type": "code",
      "metadata": {
        "id": "yzi6qY9phFyi"
      },
      "source": [
        "import matplotlib.pyplot as plt\n",
        "\n",
        "data = {'Batch 1': 10, 'Batch 2': 15, 'Batch 3': 5, 'Batch 4': 20}\n",
        "names = list(data.keys())\n",
        "values = list(data.values())\n",
        "x= 400                     # Change value and see effect\n",
        "plt.scatter(names, values,x, marker=r'$\\alpha$') #try Marker =r'>' or Marker =r'<'\n",
        "plt.show()"
      ],
      "execution_count": null,
      "outputs": []
    },
    {
      "cell_type": "markdown",
      "metadata": {
        "id": "GX1xaRZ6YW_R"
      },
      "source": [
        "#Line Chart"
      ]
    },
    {
      "cell_type": "code",
      "metadata": {
        "id": "B5rLxjVGX4f_"
      },
      "source": [
        "import matplotlib.pyplot as plt\n",
        "\n",
        "data = {'Batch 1': 10, 'Batch 2': 15, 'Batch 3': 5, 'Batch 4': 20}\n",
        "names = list(data.keys())\n",
        "values = list(data.values())\n",
        "\n",
        "plt.plot(names, values)\n",
        "plt.show()"
      ],
      "execution_count": null,
      "outputs": []
    },
    {
      "cell_type": "markdown",
      "metadata": {
        "id": "mJPuu0pTYRZ-"
      },
      "source": [
        "#SubPlot"
      ]
    },
    {
      "cell_type": "code",
      "metadata": {
        "id": "EoYixA-wYfTM"
      },
      "source": [
        "import matplotlib.pyplot as plt\n",
        "\n",
        "data = {'Batch 1': 10, 'Batch 2': 15, 'Batch 3': 5, 'Batch 4': 20}\n",
        "names = list(data.keys())\n",
        "values = list(data.values())\n",
        "\n",
        "fig, axs = plt.subplots(1,3, figsize=(10, 3))\n",
        "\n",
        "axs[0].bar(names, values)\n",
        "axs[1].scatter(names, values)\n",
        "axs[2].plot(names, values)\n",
        "\n",
        "fig.suptitle('Subplots')"
      ],
      "execution_count": null,
      "outputs": []
    },
    {
      "cell_type": "markdown",
      "metadata": {
        "id": "Y9vWlhH_fRjW"
      },
      "source": [
        "#barcode"
      ]
    },
    {
      "cell_type": "code",
      "metadata": {
        "id": "zHiF8jitkuuI"
      },
      "source": [
        "import numpy as np\n",
        "x = np.random.rand(200) > 0.7\n",
        "\n",
        "barprops = dict(aspect='auto', cmap='binary')\n",
        "\n",
        "fig = plt.figure()\n",
        "\n",
        "ax1 = fig.add_axes([0.2, 0.2, 0.8, 0.2])\n",
        "\n",
        "#ax1 = fig.add_axes([0.2, 0.2, 0.2, 0.8])\n",
        "ax1.imshow(x.reshape((1, -1)), **barprops)\n",
        "\n",
        "#ax1.imshow(x.reshape((-1, 1)), **barprops)"
      ],
      "execution_count": null,
      "outputs": []
    },
    {
      "cell_type": "markdown",
      "metadata": {
        "id": "cZzpfZdyxpHW"
      },
      "source": [
        "#Image Processing"
      ]
    },
    {
      "cell_type": "code",
      "metadata": {
        "id": "qBAVUqQyk0xw"
      },
      "source": [
        "import matplotlib.pyplot as plt\n",
        "import matplotlib.patches as patches\n",
        "\n",
        "image = plt.imread('logo new.jpg')\n",
        "\n",
        "fig, ax = plt.subplots()\n",
        "im = ax.imshow(image)\n",
        "patch = patches.Circle((800, 800), radius=500, transform=ax.transData)\n",
        "im.set_clip_path(patch)\n",
        "\n",
        "\n",
        "plt.show()"
      ],
      "execution_count": null,
      "outputs": []
    },
    {
      "cell_type": "markdown",
      "metadata": {
        "id": "lb1woJ_52Pnp"
      },
      "source": [
        "#Box Plot"
      ]
    },
    {
      "cell_type": "code",
      "metadata": {
        "id": "vq8VzNo334hx"
      },
      "source": [
        "import numpy as np\n",
        "all_data = [np.random.normal(0, x, size=20) for x in range(1, 5)]\n",
        "all_data"
      ],
      "execution_count": null,
      "outputs": []
    },
    {
      "cell_type": "code",
      "metadata": {
        "id": "EYNV2QL2xwd3"
      },
      "source": [
        "import matplotlib.pyplot as plt\n",
        "import numpy as np\n",
        "\n",
        "labels = ['x1', 'x2', 'x3', 'x4']\n",
        "#bplot1 = plt.boxplot(all_data, labels=labels)\n",
        "bplot1 = plt.boxplot(all_data,0,'rs', 0, labels=labels)   #horizantal Box Plot\n",
        "plt.show()"
      ],
      "execution_count": null,
      "outputs": []
    },
    {
      "cell_type": "markdown",
      "metadata": {
        "id": "xDR_30Gx3zBj"
      },
      "source": [
        "#violinplot"
      ]
    },
    {
      "cell_type": "code",
      "metadata": {
        "id": "3b63QV4r2ThD"
      },
      "source": [
        "import matplotlib.pyplot as plt\n",
        "import numpy as np\n",
        "\n",
        "all_data = [np.random.normal(0, x, size=50) for x in range(1, 5)]\n",
        "vplot1 = plt.violinplot(all_data)\n",
        "plt.show()"
      ],
      "execution_count": null,
      "outputs": []
    },
    {
      "cell_type": "code",
      "metadata": {
        "id": "szZ92nDMC-Il"
      },
      "source": [
        "import matplotlib.pyplot as plt\n",
        "\n",
        "all_data = [np.random.normal(0, x, size=50) for x in range(1, 5)]\n",
        "labels = ['x1', 'x2', 'x3', 'x4']\n",
        "\n",
        "fig, axs = plt.subplots(1,2, figsize=(12, 3))\n",
        "\n",
        "axs[0].boxplot(all_data, labels=labels)\n",
        "axs[1].violinplot(all_data)\n",
        "\n",
        "\n",
        "fig.suptitle('Subplots')"
      ],
      "execution_count": null,
      "outputs": []
    },
    {
      "cell_type": "markdown",
      "metadata": {
        "id": "LSTsEApGH_Bo"
      },
      "source": [
        "#histogram"
      ]
    },
    {
      "cell_type": "code",
      "metadata": {
        "id": "TlMawqVLD5r3"
      },
      "source": [
        "import matplotlib.pyplot as plt\n",
        "\n",
        "all_data = [np.random.randn(100)]\n",
        "plt.hist(all_data,bins=10)"
      ],
      "execution_count": null,
      "outputs": []
    },
    {
      "cell_type": "markdown",
      "metadata": {
        "id": "RM6gIQZSIDMk"
      },
      "source": [
        "#pie chart"
      ]
    },
    {
      "cell_type": "code",
      "metadata": {
        "id": "usjmxdXfF2BC"
      },
      "source": [
        "import matplotlib.pyplot as plt\n",
        "\n",
        "data = {'Batch 1': 30, 'Batch 2': 20, 'Batch 3': 35, 'Batch 4': 15}\n",
        "names = list(data.keys())\n",
        "values = list(data.values())\n",
        "plt.pie(values,labels=names,autopct='%0.1f%%')"
      ],
      "execution_count": null,
      "outputs": []
    },
    {
      "cell_type": "markdown",
      "metadata": {
        "id": "XmGucPauW8U-"
      },
      "source": [
        "#text in image"
      ]
    },
    {
      "cell_type": "code",
      "metadata": {
        "id": "lCOU6chcP-nP"
      },
      "source": [
        "import matplotlib.pyplot as plt\n",
        "fig = plt.figure()\n",
        "plt.text(0.1,0.2,r'an equation: $E=mc^2$')\n",
        "plt.show()"
      ],
      "execution_count": null,
      "outputs": []
    }
  ]
}