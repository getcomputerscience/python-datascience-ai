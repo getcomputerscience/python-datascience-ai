{
  "nbformat": 4,
  "nbformat_minor": 0,
  "metadata": {
    "colab": {
      "name": "Numpy_Tutorial_7.ipynb",
      "provenance": []
    },
    "kernelspec": {
      "name": "python3",
      "display_name": "Python 3"
    }
  },
  "cells": [
    {
      "cell_type": "markdown",
      "metadata": {
        "id": "dH05i3oaNyUo"
      },
      "source": [
        "Logical Operation"
      ]
    },
    {
      "cell_type": "code",
      "metadata": {
        "id": "aR17X16c_4Dq"
      },
      "source": [
        "import numpy as np"
      ],
      "execution_count": null,
      "outputs": []
    },
    {
      "cell_type": "code",
      "metadata": {
        "id": "FM5TPQ8HLCt-"
      },
      "source": [
        "np.logical_or(True, False)"
      ],
      "execution_count": null,
      "outputs": []
    },
    {
      "cell_type": "code",
      "metadata": {
        "id": "rXchvdVZLDQN"
      },
      "source": [
        "np.logical_or([True, False], [False, False])"
      ],
      "execution_count": null,
      "outputs": []
    },
    {
      "cell_type": "code",
      "metadata": {
        "id": "fH1hJGWpLD6S"
      },
      "source": [
        "np.logical_and(True, False)"
      ],
      "execution_count": null,
      "outputs": []
    },
    {
      "cell_type": "code",
      "metadata": {
        "id": "72--IxHBLGoQ"
      },
      "source": [
        "np.logical_and([True, False], [False, False])"
      ],
      "execution_count": null,
      "outputs": []
    },
    {
      "cell_type": "code",
      "metadata": {
        "id": "mbqP3u5MfUvA"
      },
      "source": [
        "np.logical_xor(True, False)"
      ],
      "execution_count": null,
      "outputs": []
    },
    {
      "cell_type": "code",
      "metadata": {
        "id": "Cw1BSS4-fVIT"
      },
      "source": [
        "np.logical_xor([True, True, False], [True, False, True])"
      ],
      "execution_count": null,
      "outputs": []
    },
    {
      "cell_type": "code",
      "metadata": {
        "id": "hgk1o6vgLD1_"
      },
      "source": [
        " x = np.arange(5)\n",
        " np.logical_and(x>1, x<4)"
      ],
      "execution_count": null,
      "outputs": []
    },
    {
      "cell_type": "code",
      "metadata": {
        "id": "aETo5_zXfvNp"
      },
      "source": [
        "x = np.arange(5)\n",
        "np.logical_not(x<3)"
      ],
      "execution_count": null,
      "outputs": []
    }
  ]
}