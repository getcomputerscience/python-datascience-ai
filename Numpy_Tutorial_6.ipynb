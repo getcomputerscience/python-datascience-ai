{
  "nbformat": 4,
  "nbformat_minor": 0,
  "metadata": {
    "colab": {
      "name": "Numpy_Tutorial_6.ipynb",
      "provenance": []
    },
    "kernelspec": {
      "display_name": "Python 3",
      "language": "python",
      "name": "python3"
    },
    "language_info": {
      "codemirror_mode": {
        "name": "ipython",
        "version": 3
      },
      "file_extension": ".py",
      "mimetype": "text/x-python",
      "name": "python",
      "nbconvert_exporter": "python",
      "pygments_lexer": "ipython3",
      "version": "3.8.3"
    }
  },
  "cells": [
    {
      "cell_type": "code",
      "metadata": {
        "id": "jtaoHxe7HEgC"
      },
      "source": [
        "import numpy as np"
      ],
      "execution_count": null,
      "outputs": []
    },
    {
      "cell_type": "code",
      "metadata": {
        "id": "-cG-OhVhTzu_"
      },
      "source": [
        "today=np.datetime64('today', 'D') \n",
        "print(\"today:\" ,today)"
      ],
      "execution_count": null,
      "outputs": []
    },
    {
      "cell_type": "code",
      "metadata": {
        "id": "r4iCMILKTzMQ"
      },
      "source": [
        "one_day =np.timedelta64(1, 'D')\n",
        "one_day"
      ],
      "execution_count": null,
      "outputs": []
    },
    {
      "cell_type": "code",
      "metadata": {
        "id": "is-r48ZiTy9D"
      },
      "source": [
        "two_days=np.timedelta64(2, 'D')\n",
        "two_days"
      ],
      "execution_count": null,
      "outputs": []
    },
    {
      "cell_type": "code",
      "metadata": {
        "id": "dPvpec5PTyr3"
      },
      "source": [
        "yesterday= today-one_day\n",
        "print(\"Yestraday: \",yesterday)"
      ],
      "execution_count": null,
      "outputs": []
    },
    {
      "cell_type": "code",
      "metadata": {
        "id": "WxINR735Tyb2"
      },
      "source": [
        "day_before_yesterday=today-two_days\n",
        "print(\"day before yesterday: \",day_before_yesterday)"
      ],
      "execution_count": null,
      "outputs": []
    },
    {
      "cell_type": "code",
      "metadata": {
        "id": "WRJwDm6xTyME"
      },
      "source": [
        "tomorrow  = today + one_day\n",
        "print(\"Tomorrow: \",tomorrow)"
      ],
      "execution_count": null,
      "outputs": []
    },
    {
      "cell_type": "code",
      "metadata": {
        "id": "bQhR7blHTx6s"
      },
      "source": [
        "day_after_tomorrow= today + two_days\n",
        "print(\"day after tomorrow: \",day_after_tomorrow)"
      ],
      "execution_count": null,
      "outputs": []
    },
    {
      "cell_type": "code",
      "metadata": {
        "id": "yQ1zj_6pGLs7"
      },
      "source": [
        "print(\"July, 1987\")\n",
        "print(np.arange('1987-07', '1987-08', dtype='datetime64[D]'))"
      ],
      "execution_count": null,
      "outputs": []
    },
    {
      "cell_type": "code",
      "metadata": {
        "id": "LQ_RJ8mvHPJV"
      },
      "source": [
        "print(\"Number of days, February, 2020: \")\n",
        "print(np.datetime64('2020-03-01') - np.datetime64('2020-02-01'))\n"
      ],
      "execution_count": null,
      "outputs": []
    },
    {
      "cell_type": "code",
      "metadata": {
        "id": "wfqq7--iHO9y"
      },
      "source": [
        "import datetime\n",
        "start = datetime.datetime(2020, 6, 3)\n",
        "for i in range(24):\n",
        "  dt_array = np.array([start + datetime.timedelta(hours=i) ])\n",
        "  print(dt_array)"
      ],
      "execution_count": null,
      "outputs": []
    },
    {
      "cell_type": "code",
      "metadata": {
        "id": "7vAiL3TrHnnI"
      },
      "source": [
        "print(\"First Sunday in May 2020:\")\n",
        "print(np.busday_offset('2020-01', 0, roll='forward', weekmask='Sun'))"
      ],
      "execution_count": null,
      "outputs": []
    },
    {
      "cell_type": "code",
      "metadata": {
        "id": "Gihxth9oHvOP"
      },
      "source": [
        "print(\"Number of weekdays in February 2020:\")\n",
        "print(np.busday_count('2020-02', '2020-03'))"
      ],
      "execution_count": null,
      "outputs": []
    }
  ]
}