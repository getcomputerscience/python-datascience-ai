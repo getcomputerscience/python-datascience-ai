{
  "nbformat": 4,
  "nbformat_minor": 0,
  "metadata": {
    "colab": {
      "name": "Numpy Tutorial 4.ipynb",
      "provenance": [],
      "collapsed_sections": []
    },
    "kernelspec": {
      "display_name": "Python 3",
      "language": "python",
      "name": "python3"
    },
    "language_info": {
      "codemirror_mode": {
        "name": "ipython",
        "version": 3
      },
      "file_extension": ".py",
      "mimetype": "text/x-python",
      "name": "python",
      "nbconvert_exporter": "python",
      "pygments_lexer": "ipython3",
      "version": "3.8.3"
    }
  },
  "cells": [
    {
      "cell_type": "code",
      "metadata": {
        "id": "XHGyFld6ymuL"
      },
      "source": [
        "import numpy as np"
      ],
      "execution_count": null,
      "outputs": []
    },
    {
      "cell_type": "code",
      "metadata": {
        "id": "oMR3Adn14bDc"
      },
      "source": [
        "x1 = np.array(['Intel', 'Microsoft'], dtype=np.str)\n",
        "print(\"Array1:\")\n",
        "print(x1)"
      ],
      "execution_count": null,
      "outputs": []
    },
    {
      "cell_type": "code",
      "metadata": {
        "id": "QTX1uZix4a4H"
      },
      "source": [
        "x2 = np.array([' Google', ' IBM'], dtype=np.str)\n",
        "print(\"Array2:\")\n",
        "print(x2)"
      ],
      "execution_count": null,
      "outputs": []
    },
    {
      "cell_type": "code",
      "metadata": {
        "id": "H7KVMXZ_4avV"
      },
      "source": [
        "new_array = np.char.add(x1, x2)\n",
        "print(\"new array:\")\n",
        "print(new_array)"
      ],
      "execution_count": null,
      "outputs": []
    },
    {
      "cell_type": "code",
      "metadata": {
        "id": "dYSf83dPEn9L"
      },
      "source": [
        "new_array = np.array(['Intel', 'Microsoft', 'Goggle', 'IBM'], dtype=np.str)\n",
        "print(\"Original Array:\")\n",
        "print(new_array)"
      ],
      "execution_count": null,
      "outputs": []
    },
    {
      "cell_type": "code",
      "metadata": {
        "id": "2t4V3XbN4aiG"
      },
      "source": [
        "capitalized_case = np.char.capitalize(new_array)\n",
        "print(\"\\nCapitalized: \", capitalized_case)"
      ],
      "execution_count": null,
      "outputs": []
    },
    {
      "cell_type": "code",
      "metadata": {
        "id": "tEAhC09o4aRL"
      },
      "source": [
        "lowered_case = np.char.lower(new_array)\n",
        "print(\"Lowered: \", lowered_case)"
      ],
      "execution_count": null,
      "outputs": []
    },
    {
      "cell_type": "code",
      "metadata": {
        "id": "P7I2BJSE4aCR"
      },
      "source": [
        "uppered_case = np.char.upper(new_array)\n",
        "print(\"Uppered: \", uppered_case)"
      ],
      "execution_count": null,
      "outputs": []
    },
    {
      "cell_type": "code",
      "metadata": {
        "id": "VklD3jQ24Z3A"
      },
      "source": [
        "swapcased_case = np.char.swapcase(new_array)\n",
        "print(\"Swapcased: \", swapcased_case)"
      ],
      "execution_count": null,
      "outputs": []
    },
    {
      "cell_type": "code",
      "metadata": {
        "id": "MqFzj11R4Zul"
      },
      "source": [
        "titlecased_case = np.char.title(new_array)\n",
        "print(\"Titlecased: \", titlecased_case)"
      ],
      "execution_count": null,
      "outputs": []
    },
    {
      "cell_type": "code",
      "metadata": {
        "id": "eNxDWy8k4ZhY"
      },
      "source": [
        "x = np.array(['Intel', 'Microsoft', 'Goggle', 'IBM'], dtype=np.str)\n",
        "print(\"Original Array:\")\n",
        "print(x)"
      ],
      "execution_count": null,
      "outputs": []
    },
    {
      "cell_type": "code",
      "metadata": {
        "id": "UQa1CyAwBSkP"
      },
      "source": [
        "print(\"Number of ‘i’:\")\n",
        "r = np.char.count(x, \"i\")\n",
        "print(r)"
      ],
      "execution_count": null,
      "outputs": []
    },
    {
      "cell_type": "code",
      "metadata": {
        "id": "9yXZLKh7BnlZ"
      },
      "source": [
        "print(\"count the lowest index of ‘I’:\")\n",
        "r = np.char.find(x, \"I\")\n",
        "print(r)"
      ],
      "execution_count": null,
      "outputs": []
    },
    {
      "cell_type": "code",
      "metadata": {
        "id": "QULQBB1UB-Om"
      },
      "source": [
        "print(\"Test if each element of the said array starts with 'I':\")\n",
        "r = np.char.startswith(x, \"I\")\n",
        "print(r)"
      ],
      "execution_count": null,
      "outputs": []
    },
    {
      "cell_type": "code",
      "metadata": {
        "id": "KrChua_p9nQ0"
      },
      "source": [
        "centered = np.char.center(x, 15, fillchar='_')\n",
        "print(\"\\nCentered =\", centered)"
      ],
      "execution_count": null,
      "outputs": []
    },
    {
      "cell_type": "code",
      "metadata": {
        "id": "4GsgacmH-Ns1"
      },
      "source": [
        "left = np.char.ljust(x, 15, fillchar='_')\n",
        "print(\"Left =\", left)"
      ],
      "execution_count": null,
      "outputs": []
    },
    {
      "cell_type": "code",
      "metadata": {
        "id": "iNAtGvCC-Nok"
      },
      "source": [
        "right = np.char.rjust(x, 15, fillchar='_')\n",
        "print(\"Right =\", right)"
      ],
      "execution_count": null,
      "outputs": []
    },
    {
      "cell_type": "code",
      "metadata": {
        "id": "bxieSNm1-NkK"
      },
      "source": [
        "r = np.char.join(\"_\", x)\n",
        "print(r)"
      ],
      "execution_count": null,
      "outputs": []
    },
    {
      "cell_type": "code",
      "metadata": {
        "id": "-wvQOSyJ_yMm"
      },
      "source": [
        "r = np.char.replace(x, \"IBM\", \"Motorola\")\n",
        "print(\"\\nNew array:\")\n",
        "print(r)"
      ],
      "execution_count": null,
      "outputs": []
    },
    {
      "cell_type": "code",
      "metadata": {
        "id": "qFJnHpv9_MXV"
      },
      "source": [
        "x1 = np.array(['IBM', 'Microsoft', 'Intel', 'Google', 'MHM'], dtype=np.str)\n",
        "print(\"\\nArray1:\")\n",
        "print(x1)"
      ],
      "execution_count": null,
      "outputs": []
    },
    {
      "cell_type": "code",
      "metadata": {
        "id": "HTXg7VYX_MR3"
      },
      "source": [
        "x2 = np.array(['ibm', 'Microsoft', 'Intel', 'Facebook', 'MHM'], dtype=np.str)\n",
        "print(\"Array2:\")\n",
        "print(x2)"
      ],
      "execution_count": null,
      "outputs": []
    },
    {
      "cell_type": "code",
      "metadata": {
        "id": "ukmtiSVd_MMl"
      },
      "source": [
        "print(\"\\nEqual test:\")\n",
        "r = np.char.equal(x1, x2)\n",
        "print(r)"
      ],
      "execution_count": null,
      "outputs": []
    },
    {
      "cell_type": "code",
      "metadata": {
        "id": "3pJlt5htArIt"
      },
      "source": [
        "print(\"\\nNot equal test:\")\n",
        "r = np.char.not_equal(x1, x2)\n",
        "print(r)"
      ],
      "execution_count": null,
      "outputs": []
    },
    {
      "cell_type": "code",
      "metadata": {
        "id": "QX3mat-o9OoZ"
      },
      "source": [
        "# nppy.split()\n",
        "# We are splitting the string\n",
        "print(np.char.split('MHM Outcome based Education'))"
      ],
      "execution_count": null,
      "outputs": []
    },
    {
      "cell_type": "code",
      "metadata": {
        "id": "TPIWxS0i9Ooc"
      },
      "source": [
        "# We are splitting the string\n",
        "print(np.char.split('MHM, Outcome, based, Education', sep = ','))"
      ],
      "execution_count": null,
      "outputs": []
    },
    {
      "cell_type": "code",
      "metadata": {
        "id": "wYHgRtSm9Oof"
      },
      "source": [
        "# nppy.join()\n",
        "# We are splitting the string\n",
        "print(np.char.join('-', 'MHM'))"
      ],
      "execution_count": null,
      "outputs": []
    },
    {
      "cell_type": "code",
      "metadata": {
        "id": "zuA0hx1s9Ooi"
      },
      "source": [
        "# We are splitting the string\n",
        "print(np.char.join(['-', ':'], ['MHM']))"
      ],
      "execution_count": null,
      "outputs": []
    },
    {
      "cell_type": "code",
      "metadata": {
        "id": "i0F7hadc9Ool"
      },
      "source": [
        "# nppy.count()\n",
        "A=np.array(['MHM', 'Outcome', 'based', 'Education'])\n",
        "# We are counting the substring\n",
        "print(np.char.count(A,'MHM'))"
      ],
      "execution_count": null,
      "outputs": []
    },
    {
      "cell_type": "code",
      "metadata": {
        "id": "oYJ7H4Dc9Ooo"
      },
      "source": [
        "# We are counting the substring\n",
        "print(np.char.count(A, 'Out'))"
      ],
      "execution_count": null,
      "outputs": []
    },
    {
      "cell_type": "code",
      "metadata": {
        "id": "kJox4cLJ9Oop"
      },
      "source": [
        "# nppy.rfind()\n",
        "# We are counting the substring\n",
        "print(np.char.rfind(A,'MHM'))"
      ],
      "execution_count": null,
      "outputs": []
    },
    {
      "cell_type": "code",
      "metadata": {
        "id": "pJ7LrySr9Oor"
      },
      "source": [
        "# We are counting the substring\n",
        "print(np.char.rfind(A, 'Out'))"
      ],
      "execution_count": null,
      "outputs": []
    },
    {
      "cell_type": "code",
      "metadata": {
        "id": "8x4IQ9Ph9Oot"
      },
      "source": [
        "# nppy.isnperic()\n",
        "# We are counting the substring\n",
        "print(np.char.isnumeric('123'))"
      ],
      "execution_count": null,
      "outputs": []
    },
    {
      "cell_type": "code",
      "metadata": {
        "id": "8CfIrYC59Oov"
      },
      "source": [
        "# We are counting the substring\n",
        "print(np.char.isnumeric('MHM'))"
      ],
      "execution_count": null,
      "outputs": []
    },
    {
      "cell_type": "code",
      "metadata": {
        "id": "lSwY4yJx9Oox"
      },
      "source": [
        "# nppy.equal()\n",
        "# We are checking that strings are equal or not\n",
        "A=np.char.equal('MHM', 'Education')\n",
        "print(A)"
      ],
      "execution_count": null,
      "outputs": []
    },
    {
      "cell_type": "code",
      "metadata": {
        "id": "yAUdg6G19Ooz"
      },
      "source": [
        "# We are checking that strings are equal or not\n",
        "A=np.char.equal('MHM', 'MHM')\n",
        "print(A)"
      ],
      "execution_count": null,
      "outputs": []
    }
  ]
}